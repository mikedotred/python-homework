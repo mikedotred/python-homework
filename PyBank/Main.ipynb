{
 "cells": [
  {
   "cell_type": "code",
   "execution_count": 31,
   "id": "57ee5d8b-e931-4622-8607-357c19f2a5f6",
   "metadata": {
    "tags": []
   },
   "outputs": [
    {
     "name": "stdout",
     "output_type": "stream",
     "text": [
      "Financial Analysis\n",
      "------------------------------\n",
      "Total Months: 86\n",
      "Total: 38382578.0\n"
     ]
    }
   ],
   "source": [
    "from pathlib import Path\n",
    "import csv\n",
    "\n",
    "csvpath = Path(\"Resources/budget_data.csv\")\n",
    "\n",
    "records = [] \n",
    "line_num = []\n",
    "\n",
    "with open('Resources/budget_data.csv') as f:\n",
    "    data =list(csv.reader(f))\n",
    "Total_months = (len(data)-1)\n",
    "print (\"Financial Analysis\")\n",
    "print (\"------------------------------\")\n",
    "print (f\"Total Months: {Total_months}\")\n",
    "\n",
    "\n",
    "#net total of Profits/Losses\n",
    "\n",
    "from pathlib import Path\n",
    "import csv \n",
    "\n",
    "csvpath = Path('Resources/budget_data.csv')\n",
    "\n",
    "total = 0\n",
    "\n",
    "with open('Resources/budget_data.csv','r') as file:\n",
    "    reader = (csv.reader(file))\n",
    "    next(reader, None)\n",
    "    \n",
    "    for row in reader:\n",
    "        date = (row[0])\n",
    "        profit_losses = float(row[1])\n",
    "        \n",
    "        row_total = profit_losses\n",
    "        total += row_total\n",
    "        #average = row_total / Total_months\n",
    "\n",
    "print(\"Total:\", total)  \n",
    "#print(\"Average Change:\", average)"
   ]
  },
  {
   "cell_type": "code",
   "execution_count": 50,
   "id": "41501011-88ea-4130-9732-eb1d1fddc28d",
   "metadata": {},
   "outputs": [
    {
     "ename": "ValueError",
     "evalue": "could not convert string to float: 'Jan-2010'",
     "output_type": "error",
     "traceback": [
      "\u001b[1;31m---------------------------------------------------------------------------\u001b[0m",
      "\u001b[1;31mValueError\u001b[0m                                Traceback (most recent call last)",
      "Cell \u001b[1;32mIn[50], line 17\u001b[0m\n\u001b[0;32m     13\u001b[0m     average_changes \u001b[38;5;241m=\u001b[39m []   \n\u001b[0;32m     14\u001b[0m     \u001b[38;5;28;01mfor\u001b[39;00m row \u001b[38;5;129;01min\u001b[39;00m reader:\n\u001b[0;32m     15\u001b[0m         \u001b[38;5;66;03m#date = (row[0])\u001b[39;00m\n\u001b[0;32m     16\u001b[0m         \u001b[38;5;66;03m#profit_losses = (row[1])\u001b[39;00m\n\u001b[1;32m---> 17\u001b[0m         data_values \u001b[38;5;241m=\u001b[39m [\u001b[38;5;28mfloat\u001b[39m(value) \u001b[38;5;28;01mfor\u001b[39;00m value \u001b[38;5;129;01min\u001b[39;00m row]\n\u001b[0;32m     18\u001b[0m         changes \u001b[38;5;241m=\u001b[39m [data_values[i] \u001b[38;5;241m-\u001b[39m[data_values[i\u001b[38;5;241m-\u001b[39m\u001b[38;5;241m1\u001b[39m]] \u001b[38;5;28;01mfor\u001b[39;00m i \u001b[38;5;129;01min\u001b[39;00m \u001b[38;5;28mrange\u001b[39m(\u001b[38;5;241m1\u001b[39m,time_period)]\n\u001b[0;32m     20\u001b[0m average_change \u001b[38;5;241m=\u001b[39m \u001b[38;5;28msum\u001b[39m(changes) \u001b[38;5;241m/\u001b[39m \u001b[38;5;28mlen\u001b[39m(changes)\n",
      "Cell \u001b[1;32mIn[50], line 17\u001b[0m, in \u001b[0;36m<listcomp>\u001b[1;34m(.0)\u001b[0m\n\u001b[0;32m     13\u001b[0m     average_changes \u001b[38;5;241m=\u001b[39m []   \n\u001b[0;32m     14\u001b[0m     \u001b[38;5;28;01mfor\u001b[39;00m row \u001b[38;5;129;01min\u001b[39;00m reader:\n\u001b[0;32m     15\u001b[0m         \u001b[38;5;66;03m#date = (row[0])\u001b[39;00m\n\u001b[0;32m     16\u001b[0m         \u001b[38;5;66;03m#profit_losses = (row[1])\u001b[39;00m\n\u001b[1;32m---> 17\u001b[0m         data_values \u001b[38;5;241m=\u001b[39m [\u001b[38;5;28mfloat\u001b[39m(value) \u001b[38;5;28;01mfor\u001b[39;00m value \u001b[38;5;129;01min\u001b[39;00m row]\n\u001b[0;32m     18\u001b[0m         changes \u001b[38;5;241m=\u001b[39m [data_values[i] \u001b[38;5;241m-\u001b[39m[data_values[i\u001b[38;5;241m-\u001b[39m\u001b[38;5;241m1\u001b[39m]] \u001b[38;5;28;01mfor\u001b[39;00m i \u001b[38;5;129;01min\u001b[39;00m \u001b[38;5;28mrange\u001b[39m(\u001b[38;5;241m1\u001b[39m,time_period)]\n\u001b[0;32m     20\u001b[0m average_change \u001b[38;5;241m=\u001b[39m \u001b[38;5;28msum\u001b[39m(changes) \u001b[38;5;241m/\u001b[39m \u001b[38;5;28mlen\u001b[39m(changes)\n",
      "\u001b[1;31mValueError\u001b[0m: could not convert string to float: 'Jan-2010'"
     ]
    }
   ],
   "source": [
    "#average change in profit/losses\n",
    "#NEED TO FIGURE OUT HOW TO COVERT ONE SIDE AS FLOAT AND LEAVE THE OTHER SIDE AS TEXT TO GET TO NEXT STEP\n",
    "from pathlib import Path \n",
    "import csv\n",
    "\n",
    "csvpath = Path('Resources/budget_data.csv') \n",
    "\n",
    "time_period = Total_months\n",
    "\n",
    "with open('Resources/Budget_data.csv','r') as file:\n",
    "    reader = (csv.reader(file))\n",
    "    next(reader, None)\n",
    "    average_changes = []   \n",
    "    for row in reader:\n",
    "        #date = (row[0])\n",
    "        #profit_losses = (row[1])\n",
    "        data_values = [float(value) for value in row]\n",
    "        changes = [data_values[i] -[data_values[i-1]] for i in range(1,time_period)]\n",
    "\n",
    "average_change = sum(changes) / len(changes)\n",
    "average_changes.append(average_change)\n",
    "print(\"Average Change:\", average_changes)"
   ]
  },
  {
   "cell_type": "code",
   "execution_count": 129,
   "id": "e1126bf6-bb6e-4c6b-ae26-d3775d4aafb6",
   "metadata": {
    "tags": []
   },
   "outputs": [
    {
     "ename": "KeyError",
     "evalue": "0",
     "output_type": "error",
     "traceback": [
      "\u001b[1;31m---------------------------------------------------------------------------\u001b[0m",
      "\u001b[1;31mKeyError\u001b[0m                                  Traceback (most recent call last)",
      "Cell \u001b[1;32mIn[129], line 14\u001b[0m\n\u001b[0;32m     11\u001b[0m reader \u001b[38;5;241m=\u001b[39mcsv\u001b[38;5;241m.\u001b[39mDictReader(file)\n\u001b[0;32m     13\u001b[0m \u001b[38;5;28;01mfor\u001b[39;00m row \u001b[38;5;129;01min\u001b[39;00m reader:\n\u001b[1;32m---> 14\u001b[0m     date \u001b[38;5;241m=\u001b[39m row[\u001b[38;5;241m0\u001b[39m]\n\u001b[0;32m     15\u001b[0m     profit \u001b[38;5;241m=\u001b[39m \u001b[38;5;28mint\u001b[39m(row[\u001b[38;5;241m1\u001b[39m])\n\u001b[0;32m     17\u001b[0m     \u001b[38;5;28;01mif\u001b[39;00m profit \u001b[38;5;241m<\u001b[39m greatest_increase :\n",
      "\u001b[1;31mKeyError\u001b[0m: 0"
     ]
    }
   ],
   "source": [
    "#attempted to find the greatest change in profit\n",
    "#cannot figure out how to make date equal to row 0 ,same for row 2\n",
    "from pathlib import Path\n",
    "import csv\n",
    "\n",
    "greatest_increase = 0\n",
    "start_date = \"\"\n",
    "end_date = \"\"\n",
    "\n",
    "with open('Resources/Budget_Data.csv', 'r') as file :\n",
    "    reader =csv.DictReader(file)\n",
    "    \n",
    "    for row in reader:\n",
    "        date = row[0]\n",
    "        profit = int(row[1])\n",
    "        \n",
    "        if profit > greatest_increase :\n",
    "            greatest_increase = profit\n",
    "            start_date = date\n",
    "            \n",
    "print (\"Greatest increase in profit:\", {start_date},{greatest_increase})          "
   ]
  },
  {
   "cell_type": "code",
   "execution_count": 43,
   "id": "d40847b3-e03d-44fc-90b1-6bd06c2a0277",
   "metadata": {
    "tags": []
   },
   "outputs": [
    {
     "ename": "TypeError",
     "evalue": "'<' not supported between instances of 'type' and 'float'",
     "output_type": "error",
     "traceback": [
      "\u001b[1;31m---------------------------------------------------------------------------\u001b[0m",
      "\u001b[1;31mTypeError\u001b[0m                                 Traceback (most recent call last)",
      "Cell \u001b[1;32mIn[43], line 13\u001b[0m\n\u001b[0;32m     10\u001b[0m \u001b[38;5;28;01mwith\u001b[39;00m \u001b[38;5;28mopen\u001b[39m(\u001b[38;5;124m'\u001b[39m\u001b[38;5;124mResources/Budget_Data.csv\u001b[39m\u001b[38;5;124m'\u001b[39m,\u001b[38;5;124m'\u001b[39m\u001b[38;5;124mr\u001b[39m\u001b[38;5;124m'\u001b[39m) \u001b[38;5;28;01mas\u001b[39;00m file :\n\u001b[0;32m     11\u001b[0m     reader \u001b[38;5;241m=\u001b[39m csv\u001b[38;5;241m.\u001b[39mDictReader(file)\n\u001b[1;32m---> 13\u001b[0m     \u001b[38;5;28;01mif\u001b[39;00m losses \u001b[38;5;241m<\u001b[39m greatest_decrease:\n\u001b[0;32m     14\u001b[0m         greatest_decreases \u001b[38;5;241m=\u001b[39m losses\n\u001b[0;32m     15\u001b[0m         start_date \u001b[38;5;241m=\u001b[39m date\n",
      "\u001b[1;31mTypeError\u001b[0m: '<' not supported between instances of 'type' and 'float'"
     ]
    }
   ],
   "source": [
    "#attempted greatest decrease a somewhat different way then the increase, need to make losses = \n",
    "\n",
    "from pathlib import Path\n",
    "import csv\n",
    "\n",
    "greatest_decrease = float(row[1])\n",
    "start_date = \"\"\n",
    "end_date = \"\"\n",
    "losses = int\n",
    "with open('Resources/Budget_Data.csv','r') as file :\n",
    "    reader = csv.DictReader(file)\n",
    "    \n",
    "    if losses < greatest_decrease:\n",
    "        greatest_decreases = losses\n",
    "        start_date = date\n",
    "        \n",
    "        print(\"Greatest decrease in losses:\", {start_date},{greatest_decrease})"
   ]
  },
  {
   "cell_type": "code",
   "execution_count": 143,
   "id": "59456414-43d3-47ea-9292-62704e70dfe6",
   "metadata": {
    "tags": []
   },
   "outputs": [
    {
     "name": "stdout",
     "output_type": "stream",
     "text": [
      "['Date', 'Profit/Losses']\n"
     ]
    }
   ],
   "source": [
    "with open(csvpath, 'r') as csvfile:\n",
    "    csvreader = csv.reader(csvfile, delimiter=',')\n",
    "    csv_header = next(csvreader)\n",
    "    print(csv_header)"
   ]
  },
  {
   "cell_type": "code",
   "execution_count": 38,
   "id": "fa8598a3-1689-4ba2-8eef-5f86cc978650",
   "metadata": {
    "tags": []
   },
   "outputs": [
    {
     "name": "stdout",
     "output_type": "stream",
     "text": [
      "rows: 87\n",
      "columns: 2\n"
     ]
    }
   ],
   "source": [
    "with open('Resources/budget_data.csv') as f:\n",
    "    data = list(csv.reader(f))\n",
    "print(\"rows:\", len(data))\n",
    "print(\"columns:\", len(data[0]))"
   ]
  },
  {
   "cell_type": "code",
   "execution_count": 64,
   "id": "51c7c933-50ad-4e07-af73-c17271e3355e",
   "metadata": {
    "tags": []
   },
   "outputs": [
    {
     "name": "stdout",
     "output_type": "stream",
     "text": [
      "<class '_io.TextIOWrapper'>\n",
      "<class '_csv.reader'>\n",
      "['Date', 'Profit/Losses'] <---How you print the header\n"
     ]
    }
   ],
   "source": [
    "#another attempt aat just getting it to run seperately and calculate the mean in a different way. \n",
    "#hoping it would help me discover how to seperate them\n",
    "from pathlib import Path\n",
    "import csv\n",
    "\n",
    "csvpath = Path('Resources/budget_data.csv')\n",
    "\n",
    "#date = []\n",
    "profit_losses = []\n",
    "line_num = 0\n",
    "\n",
    "with open(csvpath, 'r') as csvfile:\n",
    "    print(type(csvfile))\n",
    "    csvreader = csv.reader(csvfile, delimiter=',')\n",
    "    print(type(csvreader))\n",
    "    header = next(csvreader)\n",
    "    line_num += 1\n",
    "    print (f\"{header} <---How you print the header\")"
   ]
  },
  {
   "cell_type": "code",
   "execution_count": 69,
   "id": "05ec5422-082d-4bdc-9927-1dd33e64b873",
   "metadata": {
    "tags": []
   },
   "outputs": [
    {
     "ename": "ValueError",
     "evalue": "I/O operation on closed file.",
     "output_type": "error",
     "traceback": [
      "\u001b[1;31m---------------------------------------------------------------------------\u001b[0m",
      "\u001b[1;31mValueError\u001b[0m                                Traceback (most recent call last)",
      "Cell \u001b[1;32mIn[69], line 1\u001b[0m\n\u001b[1;32m----> 1\u001b[0m \u001b[38;5;28;01mfor\u001b[39;00m row \u001b[38;5;129;01min\u001b[39;00m csvreader:\n\u001b[0;32m      2\u001b[0m     \u001b[38;5;28mprint\u001b[39m(row)\n\u001b[0;32m      3\u001b[0m     \u001b[38;5;66;03m#date = (row[0])\u001b[39;00m\n",
      "\u001b[1;31mValueError\u001b[0m: I/O operation on closed file."
     ]
    }
   ],
   "source": [
    "    \n",
    "for row in csvreader:\n",
    "    print(row)\n",
    "    #date = (row[0])\n",
    "    profitnlosses = int(row[1])\n",
    "    profitnlosses.ammend(profit_losses)\n",
    "    #date.ammend(date)\n",
    "    \n",
    "    max_profit_loss = 0\n",
    "    min_profit_loss = 0\n",
    "    avg_profit_loss = 0\n",
    "    total_profit_loss = 0\n",
    "    count_profit_loss = 0\n",
    "    \n",
    "    for profitnlosses in profit_losses:\n",
    "        total_profit_loss += profitnlosses\n",
    "        count_profit_loss = 1\n",
    "        \n",
    "        if min_profit_loss == 0:\n",
    "            min_profit_loss = profitnlosses\n",
    "        elif profitnlosses > max_profit_loss:\n",
    "                max_profit_loss = profitnlosses\n",
    "        elif profitnlosses < min_profit_loss:\n",
    "                    min_profit_loss = profitnlosses\n",
    "                    \n",
    "                    avg_profit_loss = round(total_profit_loss / count_profit_loss ,2)\n",
    "                    print(max_profit_loss,min_profit_loss,avg_profit_loss)\n",
    "                \n",
    "            \n",
    "            \n",
    "        "
   ]
  },
  {
   "cell_type": "code",
   "execution_count": null,
   "id": "84a55e94-5a8b-4fab-b4d7-4436eac9cb3c",
   "metadata": {},
   "outputs": [],
   "source": []
  }
 ],
 "metadata": {
  "kernelspec": {
   "display_name": "Python 3 (ipykernel)",
   "language": "python",
   "name": "python3"
  },
  "language_info": {
   "codemirror_mode": {
    "name": "ipython",
    "version": 3
   },
   "file_extension": ".py",
   "mimetype": "text/x-python",
   "name": "python",
   "nbconvert_exporter": "python",
   "pygments_lexer": "ipython3",
   "version": "3.11.4"
  }
 },
 "nbformat": 4,
 "nbformat_minor": 5
}
