{
 "cells": [
  {
   "cell_type": "code",
   "execution_count": 7,
   "id": "3ec11873-dece-4403-ba69-5b9c53ad6bad",
   "metadata": {},
   "outputs": [],
   "source": [
    "from pathlib import Path\n",
    "import csv\n",
    "\n",
    "#Read csv file into seperate lists\n",
    "#List for menu\n",
    "with open('Resources/menu_data.csv' , newline='') as csvfile:\n",
    "    csvreader = csv.reader(csvfile)\n",
    "    menu = []\n",
    "    for row in csvreader:\n",
    "        next(csvreader, None)\n",
    "        menu.append(row)\n",
    "\n",
    "#list for sales        \n",
    "with open('Resources/sales_data.csv', newline='') as csvfile:\n",
    "    csvreader = csv.reader(csvfile)\n",
    "    sales = []\n",
    "    for row in csvreader:\n",
    "        next(csvreader, None)\n",
    "        sales.append(row)\n",
    "#print (menu)"
   ]
  },
  {
   "cell_type": "code",
   "execution_count": 8,
   "id": "a958d7a7-db91-4577-8156-603095297192",
   "metadata": {
    "tags": []
   },
   "outputs": [],
   "source": [
    "#building report dictionary\n",
    "report = {'01-count': 'the total quanity for each ramen type',\n",
    "          '02-revenue' :'the total revenue for each ramen type',\n",
    "          '03-cogs' : 'the total cost of goods sold for each ramen type' ,\n",
    "          '04-profit' : 'the total profit of each ramen type'}"
   ]
  },
  {
   "cell_type": "code",
   "execution_count": 33,
   "id": "ac67c078-7f4e-4371-9b14-2a5fc383b4c8",
   "metadata": {
    "tags": []
   },
   "outputs": [],
   "source": [
    "#nested loop for menu\n",
    "from pathlib import Path\n",
    "import csv\n",
    "\n",
    "with open('Resources/menu_data.csv',newline='') as csvfile:\n",
    "    csvreader = csv.reader(csvfile)\n",
    "    for row in csvreader:\n",
    "        for column in row:\n",
    "            item = []\n",
    "            price = []\n",
    "            cost = []\n",
    "            #if sales_item == item(menu):"
   ]
  },
  {
   "cell_type": "code",
   "execution_count": 37,
   "id": "644725fa-6d81-4286-9d64-93768792d17d",
   "metadata": {
    "tags": []
   },
   "outputs": [
    {
     "ename": "ValueError",
     "evalue": "I/O operation on closed file.",
     "output_type": "error",
     "traceback": [
      "\u001b[1;31m---------------------------------------------------------------------------\u001b[0m",
      "\u001b[1;31mValueError\u001b[0m                                Traceback (most recent call last)",
      "Cell \u001b[1;32mIn[37], line 15\u001b[0m\n\u001b[0;32m     13\u001b[0m  cvsreader \u001b[38;5;241m=\u001b[39m csv\u001b[38;5;241m.\u001b[39mreader(csvfile, delimiter\u001b[38;5;241m=\u001b[39m\u001b[38;5;124m'\u001b[39m\u001b[38;5;124m,\u001b[39m\u001b[38;5;124m'\u001b[39m)\n\u001b[0;32m     14\u001b[0m \u001b[38;5;66;03m# print(type(csvreader))\u001b[39;00m\n\u001b[1;32m---> 15\u001b[0m  header \u001b[38;5;241m=\u001b[39m \u001b[38;5;28mnext\u001b[39m(csvreader)\n\u001b[0;32m     16\u001b[0m  line_num \u001b[38;5;241m+\u001b[39m\u001b[38;5;241m=\u001b[39m \u001b[38;5;241m1\u001b[39m\n\u001b[0;32m     17\u001b[0m \u001b[38;5;66;03m# print(f\"{header}\")\u001b[39;00m\n",
      "\u001b[1;31mValueError\u001b[0m: I/O operation on closed file."
     ]
    }
   ],
   "source": [
    "from pathlib import Path\n",
    "import csv\n",
    "\n",
    "csvpath = Path('Resources/menu_data.csv')\n",
    "menu_filepath = Path('Resources/menu_data.csv')\n",
    "sales_filepath = Path('Resources/sales_data.csv')\n",
    "\n",
    "menu = []\n",
    "sales = [] \n",
    "\n",
    "with open(csvpath, 'r') as csvfile :\n",
    "   #print(type(csvfile))\n",
    "    cvsreader = csv.reader(csvfile, delimiter=',')\n",
    "   # print(type(csvreader))\n",
    "    header = next(csvreader)\n",
    "    line_num += 1\n",
    "   # print(f\"{header}\")\n",
    "\n",
    "print (menu)"
   ]
  },
  {
   "cell_type": "code",
   "execution_count": null,
   "id": "a8f2c461-97b7-47a2-bdd7-91918468d8fd",
   "metadata": {},
   "outputs": [],
   "source": []
  }
 ],
 "metadata": {
  "kernelspec": {
   "display_name": "Python 3 (ipykernel)",
   "language": "python",
   "name": "python3"
  },
  "language_info": {
   "codemirror_mode": {
    "name": "ipython",
    "version": 3
   },
   "file_extension": ".py",
   "mimetype": "text/x-python",
   "name": "python",
   "nbconvert_exporter": "python",
   "pygments_lexer": "ipython3",
   "version": "3.11.4"
  }
 },
 "nbformat": 4,
 "nbformat_minor": 5
}
